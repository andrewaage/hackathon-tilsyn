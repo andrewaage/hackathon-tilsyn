{
 "cells": [
  {
   "cell_type": "markdown",
   "id": "dd738b15",
   "metadata": {},
   "source": [
    "# Referansemodell i Python"
   ]
  },
  {
   "cell_type": "code",
   "execution_count": 247,
   "id": "0c59c316",
   "metadata": {},
   "outputs": [],
   "source": [
    "import pandas as pd\n",
    "import numpy as np\n",
    "from sklearn.pipeline import Pipeline\n",
    "from sklearn.impute import SimpleImputer\n",
    "from sklearn.preprocessing import StandardScaler\n",
    "from sklearn.model_selection import train_test_split\n",
    "from sklearn.compose import ColumnTransformer\n",
    "from sklearn.linear_model import LinearRegression\n",
    "from sklearn.preprocessing import OneHotEncoder\n",
    "from sklearn.metrics import mean_absolute_error\n",
    "import seaborn as sns\n",
    "from datetime import timedelta\n",
    "\n",
    "pd.options.mode.chained_assignment = None"
   ]
  },
  {
   "cell_type": "code",
   "execution_count": 253,
   "id": "78f189c1",
   "metadata": {},
   "outputs": [],
   "source": [
    "df_training = pd.read_csv(\"data/treningsdata.csv\", sep = \";\", dtype = {\"postnr\": str})\n",
    "df_scoring = pd.read_csv(\"data/scoringdata.csv\", sep = \";\", dtype = {\"postnr\": str})"
   ]
  },
  {
   "cell_type": "code",
   "execution_count": 254,
   "id": "f3647672",
   "metadata": {},
   "outputs": [
    {
     "data": {
      "text/html": [
       "<div>\n",
       "<style scoped>\n",
       "    .dataframe tbody tr th:only-of-type {\n",
       "        vertical-align: middle;\n",
       "    }\n",
       "\n",
       "    .dataframe tbody tr th {\n",
       "        vertical-align: top;\n",
       "    }\n",
       "\n",
       "    .dataframe thead th {\n",
       "        text-align: right;\n",
       "    }\n",
       "</style>\n",
       "<table border=\"1\" class=\"dataframe\">\n",
       "  <thead>\n",
       "    <tr style=\"text-align: right;\">\n",
       "      <th></th>\n",
       "      <th>tilsynsobjektid</th>\n",
       "      <th>orgnummer</th>\n",
       "      <th>navn</th>\n",
       "      <th>adrlinje1</th>\n",
       "      <th>adrlinje2</th>\n",
       "      <th>postnr</th>\n",
       "      <th>poststed</th>\n",
       "      <th>tilsynid</th>\n",
       "      <th>dato</th>\n",
       "      <th>total_karakter</th>\n",
       "      <th>tilsynsbesoektype</th>\n",
       "    </tr>\n",
       "  </thead>\n",
       "  <tbody>\n",
       "    <tr>\n",
       "      <th>0</th>\n",
       "      <td>Z1006052059576191189LLAJS_Tilsynsobjekt</td>\n",
       "      <td>876576422.0</td>\n",
       "      <td>Malik's Kvarten Bistro AS</td>\n",
       "      <td>KRISTIAN IV`S GATE 1</td>\n",
       "      <td>NaN</td>\n",
       "      <td>0164</td>\n",
       "      <td>OSLO</td>\n",
       "      <td>Z1601151233010030239YFSGZ_TilsynAvtale</td>\n",
       "      <td>2016-01-15</td>\n",
       "      <td>0</td>\n",
       "      <td>1</td>\n",
       "    </tr>\n",
       "    <tr>\n",
       "      <th>1</th>\n",
       "      <td>Z1501071230082032024GTOXC_Tilsynsobjekt</td>\n",
       "      <td>914541034.0</td>\n",
       "      <td>Bakeriet i Brumunddal avdeling CC- Hamar</td>\n",
       "      <td>VANGSVEGEN 62</td>\n",
       "      <td>NaN</td>\n",
       "      <td>2317</td>\n",
       "      <td>HAMAR</td>\n",
       "      <td>Z1601211510285150239IKXEO_TilsynAvtale</td>\n",
       "      <td>2016-01-21</td>\n",
       "      <td>1</td>\n",
       "      <td>0</td>\n",
       "    </tr>\n",
       "    <tr>\n",
       "      <th>2</th>\n",
       "      <td>Z1006120609250331126HFNXO_Tilsynsobjekt</td>\n",
       "      <td>987770740.0</td>\n",
       "      <td>Aktiven skiheis - Varmestova og Lavo</td>\n",
       "      <td>Kvamskogen</td>\n",
       "      <td>NaN</td>\n",
       "      <td>5600</td>\n",
       "      <td>NORHEIMSUND</td>\n",
       "      <td>Z1603101430592020239SQLTI_TilsynAvtale</td>\n",
       "      <td>2016-03-10</td>\n",
       "      <td>1</td>\n",
       "      <td>0</td>\n",
       "    </tr>\n",
       "    <tr>\n",
       "      <th>3</th>\n",
       "      <td>Z1107281100559960160KWPRX_Tilsynsobjekt</td>\n",
       "      <td>998066662.0</td>\n",
       "      <td>Golfkafeen</td>\n",
       "      <td>Belsjøveien 50</td>\n",
       "      <td>NaN</td>\n",
       "      <td>1445</td>\n",
       "      <td>DRØBAK</td>\n",
       "      <td>Z1605111530190600240CQCNS_TilsynAvtale</td>\n",
       "      <td>2016-05-11</td>\n",
       "      <td>1</td>\n",
       "      <td>0</td>\n",
       "    </tr>\n",
       "    <tr>\n",
       "      <th>4</th>\n",
       "      <td>Z1305061320139293177THOPJ_Tilsynsobjekt</td>\n",
       "      <td>911860805.0</td>\n",
       "      <td>Marianne Bakeri og Kafe</td>\n",
       "      <td>ODDEN 2</td>\n",
       "      <td>NaN</td>\n",
       "      <td>5745</td>\n",
       "      <td>AURLAND</td>\n",
       "      <td>Z1601281551398970239WJGDG_TilsynAvtale</td>\n",
       "      <td>2016-01-28</td>\n",
       "      <td>3</td>\n",
       "      <td>0</td>\n",
       "    </tr>\n",
       "    <tr>\n",
       "      <th>...</th>\n",
       "      <td>...</td>\n",
       "      <td>...</td>\n",
       "      <td>...</td>\n",
       "      <td>...</td>\n",
       "      <td>...</td>\n",
       "      <td>...</td>\n",
       "      <td>...</td>\n",
       "      <td>...</td>\n",
       "      <td>...</td>\n",
       "      <td>...</td>\n",
       "      <td>...</td>\n",
       "    </tr>\n",
       "    <tr>\n",
       "      <th>33040</th>\n",
       "      <td>Z1811261443594962025ITFYB_Tilsynsobjekt</td>\n",
       "      <td>973165569.0</td>\n",
       "      <td>Larsens bakeri - utsalg og kafe</td>\n",
       "      <td>Skånevikveien 27</td>\n",
       "      <td>NaN</td>\n",
       "      <td>5594</td>\n",
       "      <td>SKÅNEVIK</td>\n",
       "      <td>Z1903121245183040240AKAKK_TilsynAvtale</td>\n",
       "      <td>2019-03-12</td>\n",
       "      <td>0</td>\n",
       "      <td>0</td>\n",
       "    </tr>\n",
       "    <tr>\n",
       "      <th>33041</th>\n",
       "      <td>Z1609071259126400378YKTNK_Tilsynsobjekt</td>\n",
       "      <td>917507953.0</td>\n",
       "      <td>Kaffelade</td>\n",
       "      <td>Torgalmenningen 8 - Galleriet</td>\n",
       "      <td>NaN</td>\n",
       "      <td>5014</td>\n",
       "      <td>BERGEN</td>\n",
       "      <td>Z1706011234148320239ISPHV_TilsynAvtale</td>\n",
       "      <td>2017-05-31</td>\n",
       "      <td>2</td>\n",
       "      <td>0</td>\n",
       "    </tr>\n",
       "    <tr>\n",
       "      <th>33042</th>\n",
       "      <td>Z1006120516127581189INJLE_Tilsynsobjekt</td>\n",
       "      <td>990953791.0</td>\n",
       "      <td>Pikekyss</td>\n",
       "      <td>RASMUS RØNNEBERGSGATE</td>\n",
       "      <td>NaN</td>\n",
       "      <td>6003</td>\n",
       "      <td>ÅLESUND</td>\n",
       "      <td>Z1604191143049200239RMRUW_TilsynAvtale</td>\n",
       "      <td>2016-04-19</td>\n",
       "      <td>0</td>\n",
       "      <td>0</td>\n",
       "    </tr>\n",
       "    <tr>\n",
       "      <th>33043</th>\n",
       "      <td>Z1006061504487071190UWBRX_Tilsynsobjekt</td>\n",
       "      <td>991929622.0</td>\n",
       "      <td>Fyr på Lade</td>\n",
       "      <td>HAAKON VII'S GATE 12</td>\n",
       "      <td>NaN</td>\n",
       "      <td>7041</td>\n",
       "      <td>TRONDHEIM</td>\n",
       "      <td>Z1706291050201280239VDDHQ_TilsynAvtale</td>\n",
       "      <td>2017-06-29</td>\n",
       "      <td>1</td>\n",
       "      <td>0</td>\n",
       "    </tr>\n",
       "    <tr>\n",
       "      <th>33044</th>\n",
       "      <td>Z1006051349198741126ZZYGJ_Tilsynsobjekt</td>\n",
       "      <td>973862316.0</td>\n",
       "      <td>Stavanger Kunstmuseum</td>\n",
       "      <td>Mosvangen</td>\n",
       "      <td>NaN</td>\n",
       "      <td>4021</td>\n",
       "      <td>STAVANGER</td>\n",
       "      <td>Z1903140903067720240SWLNM_TilsynAvtale</td>\n",
       "      <td>2019-03-13</td>\n",
       "      <td>0</td>\n",
       "      <td>0</td>\n",
       "    </tr>\n",
       "  </tbody>\n",
       "</table>\n",
       "<p>33045 rows × 11 columns</p>\n",
       "</div>"
      ],
      "text/plain": [
       "                               tilsynsobjektid    orgnummer  \\\n",
       "0      Z1006052059576191189LLAJS_Tilsynsobjekt  876576422.0   \n",
       "1      Z1501071230082032024GTOXC_Tilsynsobjekt  914541034.0   \n",
       "2      Z1006120609250331126HFNXO_Tilsynsobjekt  987770740.0   \n",
       "3      Z1107281100559960160KWPRX_Tilsynsobjekt  998066662.0   \n",
       "4      Z1305061320139293177THOPJ_Tilsynsobjekt  911860805.0   \n",
       "...                                        ...          ...   \n",
       "33040  Z1811261443594962025ITFYB_Tilsynsobjekt  973165569.0   \n",
       "33041  Z1609071259126400378YKTNK_Tilsynsobjekt  917507953.0   \n",
       "33042  Z1006120516127581189INJLE_Tilsynsobjekt  990953791.0   \n",
       "33043  Z1006061504487071190UWBRX_Tilsynsobjekt  991929622.0   \n",
       "33044  Z1006051349198741126ZZYGJ_Tilsynsobjekt  973862316.0   \n",
       "\n",
       "                                           navn  \\\n",
       "0                     Malik's Kvarten Bistro AS   \n",
       "1      Bakeriet i Brumunddal avdeling CC- Hamar   \n",
       "2          Aktiven skiheis - Varmestova og Lavo   \n",
       "3                                    Golfkafeen   \n",
       "4                       Marianne Bakeri og Kafe   \n",
       "...                                         ...   \n",
       "33040           Larsens bakeri - utsalg og kafe   \n",
       "33041                                 Kaffelade   \n",
       "33042                                  Pikekyss   \n",
       "33043                               Fyr på Lade   \n",
       "33044                     Stavanger Kunstmuseum   \n",
       "\n",
       "                           adrlinje1 adrlinje2 postnr     poststed  \\\n",
       "0               KRISTIAN IV`S GATE 1       NaN   0164         OSLO   \n",
       "1                      VANGSVEGEN 62       NaN   2317        HAMAR   \n",
       "2                         Kvamskogen       NaN   5600  NORHEIMSUND   \n",
       "3                     Belsjøveien 50       NaN   1445       DRØBAK   \n",
       "4                            ODDEN 2       NaN   5745      AURLAND   \n",
       "...                              ...       ...    ...          ...   \n",
       "33040               Skånevikveien 27       NaN   5594     SKÅNEVIK   \n",
       "33041  Torgalmenningen 8 - Galleriet       NaN   5014       BERGEN   \n",
       "33042          RASMUS RØNNEBERGSGATE       NaN   6003      ÅLESUND   \n",
       "33043           HAAKON VII'S GATE 12       NaN   7041    TRONDHEIM   \n",
       "33044                      Mosvangen       NaN   4021    STAVANGER   \n",
       "\n",
       "                                     tilsynid        dato  total_karakter  \\\n",
       "0      Z1601151233010030239YFSGZ_TilsynAvtale  2016-01-15               0   \n",
       "1      Z1601211510285150239IKXEO_TilsynAvtale  2016-01-21               1   \n",
       "2      Z1603101430592020239SQLTI_TilsynAvtale  2016-03-10               1   \n",
       "3      Z1605111530190600240CQCNS_TilsynAvtale  2016-05-11               1   \n",
       "4      Z1601281551398970239WJGDG_TilsynAvtale  2016-01-28               3   \n",
       "...                                       ...         ...             ...   \n",
       "33040  Z1903121245183040240AKAKK_TilsynAvtale  2019-03-12               0   \n",
       "33041  Z1706011234148320239ISPHV_TilsynAvtale  2017-05-31               2   \n",
       "33042  Z1604191143049200239RMRUW_TilsynAvtale  2016-04-19               0   \n",
       "33043  Z1706291050201280239VDDHQ_TilsynAvtale  2017-06-29               1   \n",
       "33044  Z1903140903067720240SWLNM_TilsynAvtale  2019-03-13               0   \n",
       "\n",
       "       tilsynsbesoektype  \n",
       "0                      1  \n",
       "1                      0  \n",
       "2                      0  \n",
       "3                      0  \n",
       "4                      0  \n",
       "...                  ...  \n",
       "33040                  0  \n",
       "33041                  0  \n",
       "33042                  0  \n",
       "33043                  0  \n",
       "33044                  0  \n",
       "\n",
       "[33045 rows x 11 columns]"
      ]
     },
     "execution_count": 254,
     "metadata": {},
     "output_type": "execute_result"
    }
   ],
   "source": [
    "df_training"
   ]
  },
  {
   "cell_type": "code",
   "execution_count": 255,
   "id": "38e69b8e",
   "metadata": {},
   "outputs": [
    {
     "data": {
      "text/plain": [
       "total_karakter\n",
       "0    16662\n",
       "1    10423\n",
       "2     5475\n",
       "3      485\n",
       "dtype: int64"
      ]
     },
     "execution_count": 255,
     "metadata": {},
     "output_type": "execute_result"
    }
   ],
   "source": [
    "df_training.value_counts(\"total_karakter\")"
   ]
  },
  {
   "cell_type": "code",
   "execution_count": 256,
   "id": "7bc9a12f",
   "metadata": {},
   "outputs": [],
   "source": [
    "df_training[\"navn\"] = df_training[\"navn\"].str.upper()"
   ]
  },
  {
   "cell_type": "markdown",
   "id": "53ee51d9",
   "metadata": {},
   "source": [
    "# Undersøk variabler"
   ]
  },
  {
   "cell_type": "markdown",
   "id": "9dc0f7bf",
   "metadata": {},
   "source": [
    "## Kebab?"
   ]
  },
  {
   "cell_type": "markdown",
   "id": "147a733a",
   "metadata": {},
   "source": [
    "Undersøker ny variabel \"er_kebab\", som er TRUE hvis navnet på organisasjonen inneholder ordet \"kebab\", og FALSE ellers:"
   ]
  },
  {
   "cell_type": "code",
   "execution_count": 257,
   "id": "7b3aefe9",
   "metadata": {},
   "outputs": [],
   "source": [
    "df_training = df_training.assign(er_kebab = df_training[\"navn\"].str.contains(\"KEBAB\"))"
   ]
  },
  {
   "cell_type": "code",
   "execution_count": 258,
   "id": "5accc68a",
   "metadata": {},
   "outputs": [
    {
     "data": {
      "text/plain": [
       "er_kebab\n",
       "False    32596\n",
       "True       449\n",
       "dtype: int64"
      ]
     },
     "execution_count": 258,
     "metadata": {},
     "output_type": "execute_result"
    }
   ],
   "source": [
    "df_training.value_counts(\"er_kebab\")"
   ]
  },
  {
   "cell_type": "code",
   "execution_count": 259,
   "id": "f630f2a3",
   "metadata": {},
   "outputs": [
    {
     "data": {
      "text/html": [
       "<div>\n",
       "<style scoped>\n",
       "    .dataframe tbody tr th:only-of-type {\n",
       "        vertical-align: middle;\n",
       "    }\n",
       "\n",
       "    .dataframe tbody tr th {\n",
       "        vertical-align: top;\n",
       "    }\n",
       "\n",
       "    .dataframe thead th {\n",
       "        text-align: right;\n",
       "    }\n",
       "</style>\n",
       "<table border=\"1\" class=\"dataframe\">\n",
       "  <thead>\n",
       "    <tr style=\"text-align: right;\">\n",
       "      <th></th>\n",
       "      <th>snitt_karakter</th>\n",
       "      <th>antall</th>\n",
       "    </tr>\n",
       "    <tr>\n",
       "      <th>er_kebab</th>\n",
       "      <th></th>\n",
       "      <th></th>\n",
       "    </tr>\n",
       "  </thead>\n",
       "  <tbody>\n",
       "    <tr>\n",
       "      <th>False</th>\n",
       "      <td>0.687937</td>\n",
       "      <td>32596</td>\n",
       "    </tr>\n",
       "    <tr>\n",
       "      <th>True</th>\n",
       "      <td>0.899777</td>\n",
       "      <td>449</td>\n",
       "    </tr>\n",
       "  </tbody>\n",
       "</table>\n",
       "</div>"
      ],
      "text/plain": [
       "          snitt_karakter  antall\n",
       "er_kebab                        \n",
       "False           0.687937   32596\n",
       "True            0.899777     449"
      ]
     },
     "execution_count": 259,
     "metadata": {},
     "output_type": "execute_result"
    }
   ],
   "source": [
    "(\n",
    "    df_training\n",
    "    .groupby(\"er_kebab\")\n",
    "    .agg(\n",
    "        snitt_karakter = (\"total_karakter\", \"mean\"),\n",
    "        antall = (\"total_karakter\", \"count\")\n",
    "    )\n",
    ")"
   ]
  },
  {
   "cell_type": "code",
   "execution_count": 260,
   "id": "562bce8d",
   "metadata": {},
   "outputs": [
    {
     "data": {
      "text/html": [
       "<div>\n",
       "<style scoped>\n",
       "    .dataframe tbody tr th:only-of-type {\n",
       "        vertical-align: middle;\n",
       "    }\n",
       "\n",
       "    .dataframe tbody tr th {\n",
       "        vertical-align: top;\n",
       "    }\n",
       "\n",
       "    .dataframe thead th {\n",
       "        text-align: right;\n",
       "    }\n",
       "</style>\n",
       "<table border=\"1\" class=\"dataframe\">\n",
       "  <thead>\n",
       "    <tr style=\"text-align: right;\">\n",
       "      <th></th>\n",
       "      <th>er_kebab</th>\n",
       "      <th>total_karakter</th>\n",
       "      <th>andel</th>\n",
       "    </tr>\n",
       "  </thead>\n",
       "  <tbody>\n",
       "    <tr>\n",
       "      <th>0</th>\n",
       "      <td>False</td>\n",
       "      <td>0</td>\n",
       "      <td>0.504817</td>\n",
       "    </tr>\n",
       "    <tr>\n",
       "      <th>1</th>\n",
       "      <td>False</td>\n",
       "      <td>1</td>\n",
       "      <td>0.316695</td>\n",
       "    </tr>\n",
       "    <tr>\n",
       "      <th>2</th>\n",
       "      <td>False</td>\n",
       "      <td>2</td>\n",
       "      <td>0.164223</td>\n",
       "    </tr>\n",
       "    <tr>\n",
       "      <th>3</th>\n",
       "      <td>False</td>\n",
       "      <td>3</td>\n",
       "      <td>0.014266</td>\n",
       "    </tr>\n",
       "    <tr>\n",
       "      <th>4</th>\n",
       "      <td>True</td>\n",
       "      <td>0</td>\n",
       "      <td>0.461024</td>\n",
       "    </tr>\n",
       "    <tr>\n",
       "      <th>5</th>\n",
       "      <td>True</td>\n",
       "      <td>2</td>\n",
       "      <td>0.271715</td>\n",
       "    </tr>\n",
       "    <tr>\n",
       "      <th>6</th>\n",
       "      <td>True</td>\n",
       "      <td>1</td>\n",
       "      <td>0.222717</td>\n",
       "    </tr>\n",
       "    <tr>\n",
       "      <th>7</th>\n",
       "      <td>True</td>\n",
       "      <td>3</td>\n",
       "      <td>0.044543</td>\n",
       "    </tr>\n",
       "  </tbody>\n",
       "</table>\n",
       "</div>"
      ],
      "text/plain": [
       "   er_kebab  total_karakter     andel\n",
       "0     False               0  0.504817\n",
       "1     False               1  0.316695\n",
       "2     False               2  0.164223\n",
       "3     False               3  0.014266\n",
       "4      True               0  0.461024\n",
       "5      True               2  0.271715\n",
       "6      True               1  0.222717\n",
       "7      True               3  0.044543"
      ]
     },
     "execution_count": 260,
     "metadata": {},
     "output_type": "execute_result"
    }
   ],
   "source": [
    "counts = (\n",
    "    df_training\n",
    "    .groupby(\"er_kebab\")[\"total_karakter\"]\n",
    "    .value_counts(normalize = True)\n",
    "    .rename(\"andel\")\n",
    "    .reset_index()\n",
    ")\n",
    "\n",
    "counts"
   ]
  },
  {
   "cell_type": "code",
   "execution_count": 261,
   "id": "3099b8a2",
   "metadata": {},
   "outputs": [
    {
     "data": {
      "text/plain": [
       "<AxesSubplot:xlabel='total_karakter', ylabel='andel'>"
      ]
     },
     "execution_count": 261,
     "metadata": {},
     "output_type": "execute_result"
    },
    {
     "data": {
      "image/png": "[encoded data removed]",
      "text/plain": [
       "<Figure size 432x288 with 1 Axes>"
      ]
     },
     "metadata": {
      "needs_background": "light"
     },
     "output_type": "display_data"
    }
   ],
   "source": [
    "sns.barplot(\n",
    "    data = counts, \n",
    "    x = \"total_karakter\",\n",
    "    y = \"andel\",\n",
    "    hue = \"er_kebab\"\n",
    ")"
   ]
  },
  {
   "cell_type": "code",
   "execution_count": 262,
   "id": "e5aba904",
   "metadata": {},
   "outputs": [
    {
     "data": {
      "text/plain": [
       "<AxesSubplot:xlabel='er_kebab', ylabel='total_karakter'>"
      ]
     },
     "execution_count": 262,
     "metadata": {},
     "output_type": "execute_result"
    },
    {
     "data": {
      "image/png": "[encoded data removed]",
      "text/plain": [
       "<Figure size 432x288 with 2 Axes>"
      ]
     },
     "metadata": {
      "needs_background": "light"
     },
     "output_type": "display_data"
    }
   ],
   "source": [
    "sns.heatmap(\n",
    "    data = counts.pivot(\"total_karakter\", \"er_kebab\", \"andel\"), \n",
    "    annot = True, \n",
    "    cmap = \"YlGnBu\", \n",
    "    vmin = 0, \n",
    "    vmax = 1\n",
    ")"
   ]
  },
  {
   "cell_type": "markdown",
   "id": "bec97a23",
   "metadata": {},
   "source": [
    "## Poststed"
   ]
  },
  {
   "cell_type": "code",
   "execution_count": 263,
   "id": "3364ec13",
   "metadata": {},
   "outputs": [],
   "source": [
    "def fct_lump(col, min_freq = 0.01, new_name = 'other'):\n",
    "    \"\"\"\n",
    "    This function creates a group for strings that appear less than a \n",
    "    given frequency, defined as a share of all groups (factors).\n",
    "\n",
    "    Inspired by forcats::fct_lump() in R. \n",
    "\n",
    "    Args:\n",
    "        col: Pandas series, column in DataFrame\n",
    "        min_freq: Minimum frequency to accept as decimal before setting new_name\n",
    "        new_name: String name for the new group\n",
    "\n",
    "    Returns:\n",
    "        pd.Series with lumped factors (if below threshold)\n",
    "    \"\"\"\n",
    "    series = pd.value_counts(col)\n",
    "    mask = (series/series.sum()).lt(min_freq)\n",
    "    return pd.Series(np.where(col.isin(series[mask].index), new_name, col))\n",
    "\n",
    "\n",
    "df_training = df_training.assign(poststed_lmp = fct_lump(df_training[\"poststed\"], min_freq = 0.02))"
   ]
  },
  {
   "cell_type": "code",
   "execution_count": 264,
   "id": "a234e371",
   "metadata": {},
   "outputs": [
    {
     "data": {
      "text/plain": [
       "<AxesSubplot:xlabel='total_karakter', ylabel='andel'>"
      ]
     },
     "execution_count": 264,
     "metadata": {},
     "output_type": "execute_result"
    },
    {
     "data": {
      "image/png": "[encoded data removed]",
      "text/plain": [
       "<Figure size 432x288 with 1 Axes>"
      ]
     },
     "metadata": {
      "needs_background": "light"
     },
     "output_type": "display_data"
    }
   ],
   "source": [
    "counts = (\n",
    "    df_training\n",
    "    .groupby(\"poststed_lmp\")[\"total_karakter\"]\n",
    "    .value_counts(normalize = True)\n",
    "    .rename(\"andel\")\n",
    "    .reset_index()\n",
    ")\n",
    "\n",
    "sns.barplot(\n",
    "    data = counts, \n",
    "    x = \"total_karakter\",\n",
    "    y = \"andel\",\n",
    "    hue = \"poststed_lmp\"\n",
    ")"
   ]
  },
  {
   "cell_type": "code",
   "execution_count": 265,
   "id": "0691eef9",
   "metadata": {},
   "outputs": [
    {
     "data": {
      "text/plain": [
       "<AxesSubplot:xlabel='poststed_lmp', ylabel='total_karakter'>"
      ]
     },
     "execution_count": 265,
     "metadata": {},
     "output_type": "execute_result"
    },
    {
     "data": {
      "image/png": "[encoded data removed]",
      "text/plain": [
       "<Figure size 432x288 with 2 Axes>"
      ]
     },
     "metadata": {
      "needs_background": "light"
     },
     "output_type": "display_data"
    }
   ],
   "source": [
    "sns.heatmap(\n",
    "    data = counts.pivot(\"total_karakter\", \"poststed_lmp\", \"andel\"), \n",
    "    annot = True, \n",
    "    cmap = \"YlGnBu\", \n",
    "    vmin = 0, \n",
    "    vmax = 1\n",
    ")"
   ]
  },
  {
   "cell_type": "markdown",
   "id": "bb389945",
   "metadata": {},
   "source": [
    "# Lag modell"
   ]
  },
  {
   "cell_type": "code",
   "execution_count": 266,
   "id": "2eb5a64f",
   "metadata": {},
   "outputs": [
    {
     "name": "stdout",
     "output_type": "stream",
     "text": [
      "Training Set: 23,131 rows\n",
      "Test Set: 9,914 rows\n"
     ]
    }
   ],
   "source": [
    "#Definerer x og y variabler\n",
    "x_vars = ['er_kebab', 'tilsynsbesoektype', 'poststed']\n",
    "X = df_training[x_vars]\n",
    "y = df_training['total_karakter']\n",
    "\n",
    "# Definer training og testing\n",
    "X_train, X_test, y_train, y_test = train_test_split(X, y, test_size = 0.30, random_state = 0)\n",
    "\n",
    "print(f'Training Set: {X_train.shape[0]:,d} rows\\nTest Set: {X_test.shape[0]:,d} rows')"
   ]
  },
  {
   "cell_type": "code",
   "execution_count": 268,
   "id": "5a5ca052",
   "metadata": {},
   "outputs": [],
   "source": [
    "# Steps for numeriske variabler\n",
    "numeric_transformer = Pipeline(\n",
    "    steps = [\n",
    "        ('imputer', SimpleImputer(strategy = 'mean'))\n",
    "    ]\n",
    ")\n",
    "\n",
    "# Steps for kategoriske variabler\n",
    "categorical_transformer = Pipeline(\n",
    "    steps=[\n",
    "        ('imputer', SimpleImputer(strategy = 'most_frequent')),\n",
    "        ('onehot', OneHotEncoder(handle_unknown = 'ignore'))\n",
    "    ]\n",
    ")\n",
    "\n",
    "# Finn numeriske og kategoriske kolonner\n",
    "numeric_features = X_train.select_dtypes(include = ['int64', 'float64']).columns\n",
    "categorical_features = X_train.select_dtypes(include = ['object']).columns\n",
    "\n",
    "preprocessor = ColumnTransformer(\n",
    "    transformers = [\n",
    "        ('numeric', numeric_transformer, numeric_features),\n",
    "        ('categorical', categorical_transformer, categorical_features)\n",
    "    ]\n",
    ")\n",
    "\n",
    "# Kombiner Pipeline med modell (her: lineær regresjon)\n",
    "lm = Pipeline(\n",
    "    steps = [\n",
    "        ('preprocessor', preprocessor),\n",
    "        ('modell', LinearRegression())\n",
    "    ]\n",
    ")"
   ]
  },
  {
   "cell_type": "code",
   "execution_count": 269,
   "id": "ed6f01b4",
   "metadata": {},
   "outputs": [],
   "source": [
    "# Tren Pipelinen\n",
    "lm.fit(X_train, y_train)\n",
    "\n",
    "# Bruk pipeline på nye data\n",
    "pred = lm.predict(X_test)"
   ]
  },
  {
   "cell_type": "markdown",
   "id": "866aa52e",
   "metadata": {},
   "source": [
    "Siden vi har behandlet input som numerisk må vi konvertere for å få \"harde\" prediksjoner. Vi velger her å bruke en enkel \"round\": \n"
   ]
  },
  {
   "cell_type": "code",
   "execution_count": 270,
   "id": "5b9b95d4",
   "metadata": {},
   "outputs": [],
   "source": [
    "# Begrenser prediksjonen til [0, 3] \n",
    "pred = np.clip(pred, 0, 3)\n",
    "\n",
    "softpred = pred\n",
    "hardpred = pred.round()"
   ]
  },
  {
   "cell_type": "markdown",
   "id": "9850db8f",
   "metadata": {},
   "source": [
    "# Validering av modell\n",
    "Som valideringsmetric scores dere på macro-averaged MAE, eller MMAE, som er et måltall som egner seg for ordinale utfall når utfallet er ubalansert, les mer [her](https://stats.stackexchange.com/questions/338904/measures-of-ordinal-classification-error-for-ordinal-regression).\n",
    "\n",
    "Dette er gjennomsnittlig avvik per risikonivå. Det vil si at dersom du predikerer kun 0 eller 1 på alle (de vanligste verdiene), så vil du få en ganske dårlig score - fordi du vil straffes hardt for alle du bommer på som skulle hatt 2 eller 3, selv om det er veldig få av disse. \n",
    "\n",
    "Dere velger selv om dere vil sende inn \"harde prediksjoner\" (eks: 0, 1, 2, 3) eller \"myke\" prediksjoner (eks: 0.13, 0.89, 2.42, 2.99). \n",
    "\n",
    "Merk at jo lavere MMAE, jo bedre er modellen. "
   ]
  },
  {
   "cell_type": "code",
   "execution_count": 271,
   "id": "7ea364df",
   "metadata": {},
   "outputs": [
    {
     "name": "stdout",
     "output_type": "stream",
     "text": [
      "MMAE (hard) = 1.0009172937555426,\n",
      "MMAE (soft) = 1.0320000438539767\n"
     ]
    }
   ],
   "source": [
    "def mmae(y_true, y_pred):\n",
    "    \"\"\"\n",
    "    Funksjonen beregner Macro Averaged Mean Absolute Error.  \n",
    "    Dvs at den beregner MAE per class i y_true, og tar snittet av disse. \n",
    "\n",
    "    Params:\n",
    "        y_true: Vektor med sanne verdier\n",
    "        y_pred: Vektor med predikerte verdier\n",
    "    \"\"\"\n",
    "    df = pd.DataFrame({\"y_true\": y_test, \"y_pred\": y_pred})\n",
    "    maes = df.groupby(\"y_true\").apply(lambda d: mean_absolute_error(d[\"y_true\"], d[\"y_pred\"]))\n",
    "    return maes.mean()\n",
    "\n",
    "mmae_lm_hard = mmae(y_test, y_pred = hardpred)\n",
    "mmae_lm_soft = mmae(y_test, y_pred = softpred)\n",
    "\n",
    "print(f\"MMAE (hard) = {mmae_lm_hard},\\nMMAE (soft) = {mmae_lm_soft}\")"
   ]
  },
  {
   "cell_type": "code",
   "execution_count": 272,
   "id": "e724bf46",
   "metadata": {},
   "outputs": [
    {
     "data": {
      "text/plain": [
       "<seaborn.axisgrid.FacetGrid at 0x7fee91e4c1f0>"
      ]
     },
     "execution_count": 272,
     "metadata": {},
     "output_type": "execute_result"
    },
    {
     "data": {
      "image/png": "[encoded data removed]",
      "text/plain": [
       "<Figure size 360x360 with 1 Axes>"
      ]
     },
     "metadata": {
      "needs_background": "light"
     },
     "output_type": "display_data"
    }
   ],
   "source": [
    "sns.displot(data = softpred)"
   ]
  },
  {
   "cell_type": "code",
   "execution_count": 273,
   "id": "fedd5106",
   "metadata": {},
   "outputs": [
    {
     "data": {
      "text/plain": [
       "<AxesSubplot:ylabel='count'>"
      ]
     },
     "execution_count": 273,
     "metadata": {},
     "output_type": "execute_result"
    },
    {
     "data": {
      "image/png": "[encoded data removed]",
      "text/plain": [
       "<Figure size 432x288 with 1 Axes>"
      ]
     },
     "metadata": {
      "needs_background": "light"
     },
     "output_type": "display_data"
    }
   ],
   "source": [
    "sns.countplot(x = hardpred)"
   ]
  },
  {
   "cell_type": "code",
   "execution_count": 274,
   "id": "fb819b55",
   "metadata": {
    "scrolled": true
   },
   "outputs": [
    {
     "data": {
      "image/png": "[encoded data removed]",
      "text/plain": [
       "<Figure size 432x432 with 3 Axes>"
      ]
     },
     "metadata": {
      "needs_background": "light"
     },
     "output_type": "display_data"
    }
   ],
   "source": [
    "import matplotlib.pyplot as plt\n",
    "\n",
    "p = sns.jointplot(\n",
    "    y = softpred, \n",
    "    x = y_test, \n",
    "    kind = \"reg\", \n",
    "    joint_kws = {\n",
    "        \"scatter_kws\":{\"alpha\": 0.25}, \n",
    "        \"line_kws\": {\"color\":\"red\"},\n",
    "        \"order\":3\n",
    "    }\n",
    ")\n",
    "\n",
    "p.ax_joint.set_xlabel(\"Actual\")\n",
    "p.ax_joint.set_ylabel(\"Predicted\")\n",
    "plt.show()"
   ]
  },
  {
   "cell_type": "markdown",
   "id": "4e2fab6a",
   "metadata": {},
   "source": [
    "# Lag innlevering"
   ]
  },
  {
   "cell_type": "code",
   "execution_count": 279,
   "id": "93dc5495",
   "metadata": {},
   "outputs": [
    {
     "data": {
      "text/html": [
       "<div>\n",
       "<style scoped>\n",
       "    .dataframe tbody tr th:only-of-type {\n",
       "        vertical-align: middle;\n",
       "    }\n",
       "\n",
       "    .dataframe tbody tr th {\n",
       "        vertical-align: top;\n",
       "    }\n",
       "\n",
       "    .dataframe thead th {\n",
       "        text-align: right;\n",
       "    }\n",
       "</style>\n",
       "<table border=\"1\" class=\"dataframe\">\n",
       "  <thead>\n",
       "    <tr style=\"text-align: right;\">\n",
       "      <th></th>\n",
       "      <th>tilsynid</th>\n",
       "      <th>dato</th>\n",
       "      <th>final_prediction</th>\n",
       "    </tr>\n",
       "  </thead>\n",
       "  <tbody>\n",
       "    <tr>\n",
       "      <th>0</th>\n",
       "      <td>Z2107081356362630239TMJGL_TilsynAvtale</td>\n",
       "      <td>2021-07-08</td>\n",
       "      <td>1.0</td>\n",
       "    </tr>\n",
       "    <tr>\n",
       "      <th>1</th>\n",
       "      <td>Z2107020842545310239AULJY_TilsynAvtale</td>\n",
       "      <td>2021-07-01</td>\n",
       "      <td>1.0</td>\n",
       "    </tr>\n",
       "    <tr>\n",
       "      <th>2</th>\n",
       "      <td>Z2104291500352540240OCTIH_TilsynAvtale</td>\n",
       "      <td>2021-04-29</td>\n",
       "      <td>1.0</td>\n",
       "    </tr>\n",
       "    <tr>\n",
       "      <th>3</th>\n",
       "      <td>Z2107061655052730239NMNIF_TilsynAvtale</td>\n",
       "      <td>2021-07-06</td>\n",
       "      <td>1.0</td>\n",
       "    </tr>\n",
       "    <tr>\n",
       "      <th>4</th>\n",
       "      <td>Z2104201309179870240SEVGY_TilsynAvtale</td>\n",
       "      <td>2021-04-20</td>\n",
       "      <td>1.0</td>\n",
       "    </tr>\n",
       "    <tr>\n",
       "      <th>...</th>\n",
       "      <td>...</td>\n",
       "      <td>...</td>\n",
       "      <td>...</td>\n",
       "    </tr>\n",
       "    <tr>\n",
       "      <th>5457</th>\n",
       "      <td>Z2103031226347230240AKUQU_TilsynAvtale</td>\n",
       "      <td>2021-03-03</td>\n",
       "      <td>1.0</td>\n",
       "    </tr>\n",
       "    <tr>\n",
       "      <th>5458</th>\n",
       "      <td>Z2106162232046940239SBBNT_TilsynAvtale</td>\n",
       "      <td>2021-06-16</td>\n",
       "      <td>1.0</td>\n",
       "    </tr>\n",
       "    <tr>\n",
       "      <th>5459</th>\n",
       "      <td>Z2103011403059210240GIYJX_TilsynAvtale</td>\n",
       "      <td>2021-03-01</td>\n",
       "      <td>1.0</td>\n",
       "    </tr>\n",
       "    <tr>\n",
       "      <th>5460</th>\n",
       "      <td>Z2102251532293320240KQDXS_TilsynAvtale</td>\n",
       "      <td>2021-02-25</td>\n",
       "      <td>0.0</td>\n",
       "    </tr>\n",
       "    <tr>\n",
       "      <th>5461</th>\n",
       "      <td>Z2109211526483570239DXQKX_TilsynAvtale</td>\n",
       "      <td>2021-09-21</td>\n",
       "      <td>0.0</td>\n",
       "    </tr>\n",
       "  </tbody>\n",
       "</table>\n",
       "<p>5462 rows × 3 columns</p>\n",
       "</div>"
      ],
      "text/plain": [
       "                                    tilsynid        dato  final_prediction\n",
       "0     Z2107081356362630239TMJGL_TilsynAvtale  2021-07-08               1.0\n",
       "1     Z2107020842545310239AULJY_TilsynAvtale  2021-07-01               1.0\n",
       "2     Z2104291500352540240OCTIH_TilsynAvtale  2021-04-29               1.0\n",
       "3     Z2107061655052730239NMNIF_TilsynAvtale  2021-07-06               1.0\n",
       "4     Z2104201309179870240SEVGY_TilsynAvtale  2021-04-20               1.0\n",
       "...                                      ...         ...               ...\n",
       "5457  Z2103031226347230240AKUQU_TilsynAvtale  2021-03-03               1.0\n",
       "5458  Z2106162232046940239SBBNT_TilsynAvtale  2021-06-16               1.0\n",
       "5459  Z2103011403059210240GIYJX_TilsynAvtale  2021-03-01               1.0\n",
       "5460  Z2102251532293320240KQDXS_TilsynAvtale  2021-02-25               0.0\n",
       "5461  Z2109211526483570239DXQKX_TilsynAvtale  2021-09-21               0.0\n",
       "\n",
       "[5462 rows x 3 columns]"
      ]
     },
     "execution_count": 279,
     "metadata": {},
     "output_type": "execute_result"
    }
   ],
   "source": [
    "# Lag samme variabler i df_scoring som vi anvender i modell\n",
    "# Tips: Lag en funksjon som du anvender på trening og scoring\n",
    "df_scoring = df_scoring.assign(\n",
    "    er_kebab = df_scoring[\"navn\"].str.contains(\"KEBAB\")\n",
    ")\n",
    "\n",
    "X_score = df_scoring[x_vars]\n",
    "pred_score = lm.predict(X_score)\n",
    "round_score = pred_score.round()\n",
    "\n",
    "df_scoring = df_scoring.assign(final_prediction = round_score)\n",
    "\n",
    "innlevering = df_scoring[[\"tilsynid\", \"dato\", \"final_prediction\"]]\n",
    "innlevering"
   ]
  },
  {
   "cell_type": "code",
   "execution_count": 285,
   "id": "4e29312e",
   "metadata": {},
   "outputs": [],
   "source": [
    "import os\n",
    "if not os.path.exists('output'):\n",
    "    os.makedirs('output')\n",
    "\n",
    "# TODO: Sett inn deres lagnavn her!\n",
    "lagnavn = \"pyref\"\n",
    "innlevering.to_csv(f\"output/{lagnavn}_scoring.csv\", sep = \";\", decimal = \",\")"
   ]
  },
  {
   "cell_type": "markdown",
   "id": "1951e6db",
   "metadata": {},
   "source": [
    "# Appendix\n",
    "## Tuning\n",
    "Ønsker du å tune modellen, kan følgende kodesnutt hjelpe. Vi tuner her Lasso-modellen sitt alpha-parameter\n",
    "\n",
    "Merk at vi anbefaler ikke å bruke altfor mye tid på tuning da det ofte er lite å hente og tar mye tid (spesielt med dårlig PC), men dersom man er fornøyd med modellen ellers kan tuning være det \"lille ekstra\" som skiller førsteplass og andreplass!\n"
   ]
  },
  {
   "cell_type": "code",
   "execution_count": 235,
   "id": "dc83f235",
   "metadata": {},
   "outputs": [],
   "source": [
    "from sklearn.model_selection import KFold, GridSearchCV\n",
    "from sklearn.metrics import accuracy_score, make_scorer\n",
    "from sklearn import linear_model"
   ]
  },
  {
   "cell_type": "markdown",
   "id": "24cbc188",
   "metadata": {},
   "source": [
    "Tuning kan også benyttes med pipeline. Da må du legge til navnet på modellen i pipen som prefix til hvert parameternavn, etterfulgt av to understreker. For eksempel: i pipen underga vi modellen navnet modell, da må parameternavnene i grid={...} bli modell__alpha"
   ]
  },
  {
   "cell_type": "code",
   "execution_count": 241,
   "id": "4b06a7ba",
   "metadata": {},
   "outputs": [],
   "source": [
    "# Kombiner Pipeline med modell (her: Lasso. husk å inkludere modellnavnet i Grid under)\n",
    "ls = Pipeline(\n",
    "    steps = [\n",
    "        ('preprocessor', preprocessor),\n",
    "        ('modell', linear_model.Lasso())\n",
    "    ]\n",
    ")"
   ]
  },
  {
   "cell_type": "code",
   "execution_count": 242,
   "id": "c5752584",
   "metadata": {},
   "outputs": [],
   "source": [
    "grid = {\n",
    "    'modell__alpha': [0.1, 0.2]\n",
    "}\n",
    "\n",
    "kfold = KFold(n_splits = 5)"
   ]
  },
  {
   "cell_type": "code",
   "execution_count": 243,
   "id": "7f7eeb12",
   "metadata": {},
   "outputs": [
    {
     "name": "stdout",
     "output_type": "stream",
     "text": [
      "Fitting 5 folds for each of 2 candidates, totalling 10 fits\n"
     ]
    },
    {
     "data": {
      "text/plain": [
       "GridSearchCV(cv=KFold(n_splits=5, random_state=None, shuffle=False),\n",
       "             estimator=Pipeline(steps=[('preprocessor',\n",
       "                                        ColumnTransformer(transformers=[('numeric',\n",
       "                                                                         Pipeline(steps=[('imputer',\n",
       "                                                                                          SimpleImputer())]),\n",
       "                                                                         Index(['tilsynsbesoektype'], dtype='object')),\n",
       "                                                                        ('categorical',\n",
       "                                                                         Pipeline(steps=[('imputer',\n",
       "                                                                                          SimpleImputer(strategy='most_frequent')),\n",
       "                                                                                         ('onehot',\n",
       "                                                                                          OneHotEncoder(handle_unknown='ignore'))]),\n",
       "                                                                         Index(['poststed'], dtype='object'))])),\n",
       "                                       ('modell', Lasso())]),\n",
       "             n_jobs=-1, param_grid={'modell__alpha': [0.1, 0.2]},\n",
       "             scoring='neg_mean_absolute_error', verbose=1)"
      ]
     },
     "execution_count": 243,
     "metadata": {},
     "output_type": "execute_result"
    }
   ],
   "source": [
    "grid = GridSearchCV(\n",
    "  ls,\n",
    "  param_grid = grid,\n",
    "  cv = kfold,\n",
    "  scoring = 'neg_mean_absolute_error', # OBS: Optimalt sett bruk MMAE her\n",
    "  verbose = 1,\n",
    "  n_jobs = -1\n",
    ")\n",
    "\n",
    "grid.fit(X_train, y_train)"
   ]
  },
  {
   "cell_type": "code",
   "execution_count": 244,
   "id": "0d5d6e0c",
   "metadata": {},
   "outputs": [
    {
     "name": "stdout",
     "output_type": "stream",
     "text": [
      "{'modell__alpha': 0.1}\n"
     ]
    }
   ],
   "source": [
    "print(grid.best_params_)"
   ]
  },
  {
   "cell_type": "markdown",
   "id": "91d61c5e",
   "metadata": {},
   "source": [
    "## Finne vanligste ord eller ngrams i orgnavn\n",
    "Under finner vi de vanligste ordene som opptrer i datasettet. Kanskje noen av de kan skille seg ut?"
   ]
  },
  {
   "cell_type": "code",
   "execution_count": 189,
   "id": "83a8e1b1",
   "metadata": {},
   "outputs": [
    {
     "data": {
      "text/plain": [
       "AS            3230\n",
       "RESTAURANT    2537\n",
       "&             2436\n",
       "OG            2345\n",
       "CAFE          1649\n",
       "KAFE          1566\n",
       "-             1561\n",
       "PIZZA         1396\n",
       "HOTEL         1094\n",
       "BAR            947\n",
       "HOTELL         881\n",
       "SUSHI          872\n",
       "BAKERI         713\n",
       "HOUSE          684\n",
       "AVD.           609\n",
       "dtype: int64"
      ]
     },
     "execution_count": 189,
     "metadata": {},
     "output_type": "execute_result"
    }
   ],
   "source": [
    "pd.Series(' '.join(df_training['navn']).split()).value_counts()[:15]"
   ]
  }
 ],
 "metadata": {
  "kernelspec": {
   "display_name": "Python 3",
   "language": "python",
   "name": "python3"
  },
  "language_info": {
   "codemirror_mode": {
    "name": "ipython",
    "version": 3
   },
   "file_extension": ".py",
   "mimetype": "text/x-python",
   "name": "python",
   "nbconvert_exporter": "python",
   "pygments_lexer": "ipython3",
   "version": "3.8.12"
  }
 },
 "nbformat": 4,
 "nbformat_minor": 5
}
