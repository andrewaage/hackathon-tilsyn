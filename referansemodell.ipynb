{
 "cells": [
  {
   "cell_type": "markdown",
   "id": "dd738b15",
   "metadata": {},
   "source": [
    "# Referansemodell i Python"
   ]
  },
  {
   "cell_type": "code",
   "execution_count": 209,
   "id": "0c59c316",
   "metadata": {},
   "outputs": [],
   "source": [
    "import pandas as pd\n",
    "import numpy as np\n",
    "from sklearn.pipeline import Pipeline\n",
    "from sklearn.impute import SimpleImputer\n",
    "from sklearn.preprocessing import StandardScaler\n",
    "from sklearn.model_selection import train_test_split\n",
    "from sklearn.compose import ColumnTransformer\n",
    "from sklearn.linear_model import LinearRegression\n",
    "from sklearn.preprocessing import OneHotEncoder\n",
    "from sklearn.metrics import mean_absolute_error\n",
    "import seaborn as sns\n",
    "from datetime import timedelta\n",
    "\n",
    "pd.options.mode.chained_assignment = None"
   ]
  },
  {
   "cell_type": "code",
   "execution_count": 210,
   "id": "c50b7c40",
   "metadata": {},
   "outputs": [],
   "source": [
    "df = pd.read_csv(\"data/tilsyn.csv\", sep=';')"
   ]
  },
  {
   "cell_type": "code",
   "execution_count": 211,
   "id": "64067d66",
   "metadata": {},
   "outputs": [],
   "source": [
    "# datavask\n",
    "keep_vars = ['tilsynsobjektid', 'orgnummer', 'navn', 'adrlinje1', 'adrlinje2',\n",
    "       'postnr', 'poststed', 'tilsynid', 'dato',\n",
    "       'total_karakter', 'tilsynsbesoektype']\n",
    "df = df[keep_vars]"
   ]
  },
  {
   "cell_type": "code",
   "execution_count": 212,
   "id": "5a9b5f0a",
   "metadata": {},
   "outputs": [
    {
     "data": {
      "text/html": [
       "<div>\n",
       "<style scoped>\n",
       "    .dataframe tbody tr th:only-of-type {\n",
       "        vertical-align: middle;\n",
       "    }\n",
       "\n",
       "    .dataframe tbody tr th {\n",
       "        vertical-align: top;\n",
       "    }\n",
       "\n",
       "    .dataframe thead th {\n",
       "        text-align: right;\n",
       "    }\n",
       "</style>\n",
       "<table border=\"1\" class=\"dataframe\">\n",
       "  <thead>\n",
       "    <tr style=\"text-align: right;\">\n",
       "      <th></th>\n",
       "      <th>tilsynsobjektid</th>\n",
       "      <th>orgnummer</th>\n",
       "      <th>navn</th>\n",
       "      <th>adrlinje1</th>\n",
       "      <th>adrlinje2</th>\n",
       "      <th>postnr</th>\n",
       "      <th>poststed</th>\n",
       "      <th>tilsynid</th>\n",
       "      <th>dato</th>\n",
       "      <th>total_karakter</th>\n",
       "      <th>tilsynsbesoektype</th>\n",
       "    </tr>\n",
       "  </thead>\n",
       "  <tbody>\n",
       "    <tr>\n",
       "      <th>0</th>\n",
       "      <td>Z1006052059576191189LLAJS_Tilsynsobjekt</td>\n",
       "      <td>876576422.0</td>\n",
       "      <td>Malik's Kvarten Bistro AS</td>\n",
       "      <td>KRISTIAN IV`S GATE 1</td>\n",
       "      <td>NaN</td>\n",
       "      <td>164.0</td>\n",
       "      <td>OSLO</td>\n",
       "      <td>Z1601151233010030239YFSGZ_TilsynAvtale</td>\n",
       "      <td>15012016</td>\n",
       "      <td>0</td>\n",
       "      <td>1</td>\n",
       "    </tr>\n",
       "    <tr>\n",
       "      <th>1</th>\n",
       "      <td>Z1501071230082032024GTOXC_Tilsynsobjekt</td>\n",
       "      <td>914541034.0</td>\n",
       "      <td>Bakeriet i Brumunddal avdeling CC- Hamar</td>\n",
       "      <td>VANGSVEGEN 62</td>\n",
       "      <td>NaN</td>\n",
       "      <td>2317.0</td>\n",
       "      <td>HAMAR</td>\n",
       "      <td>Z1601211510285150239IKXEO_TilsynAvtale</td>\n",
       "      <td>21012016</td>\n",
       "      <td>1</td>\n",
       "      <td>0</td>\n",
       "    </tr>\n",
       "    <tr>\n",
       "      <th>2</th>\n",
       "      <td>Z1006120609250331126HFNXO_Tilsynsobjekt</td>\n",
       "      <td>987770740.0</td>\n",
       "      <td>Aktiven skiheis - Varmestova og Lavo</td>\n",
       "      <td>Kvamskogen</td>\n",
       "      <td>NaN</td>\n",
       "      <td>5600.0</td>\n",
       "      <td>NORHEIMSUND</td>\n",
       "      <td>Z1603101430592020239SQLTI_TilsynAvtale</td>\n",
       "      <td>10032016</td>\n",
       "      <td>1</td>\n",
       "      <td>0</td>\n",
       "    </tr>\n",
       "    <tr>\n",
       "      <th>3</th>\n",
       "      <td>Z1107281100559960160KWPRX_Tilsynsobjekt</td>\n",
       "      <td>998066662.0</td>\n",
       "      <td>Golfkafeen</td>\n",
       "      <td>Belsjøveien 50</td>\n",
       "      <td>NaN</td>\n",
       "      <td>1445.0</td>\n",
       "      <td>DRØBAK</td>\n",
       "      <td>Z1605111530190600240CQCNS_TilsynAvtale</td>\n",
       "      <td>11052016</td>\n",
       "      <td>1</td>\n",
       "      <td>0</td>\n",
       "    </tr>\n",
       "    <tr>\n",
       "      <th>4</th>\n",
       "      <td>Z1305061320139293177THOPJ_Tilsynsobjekt</td>\n",
       "      <td>911860805.0</td>\n",
       "      <td>Marianne Bakeri og Kafe</td>\n",
       "      <td>ODDEN 2</td>\n",
       "      <td>NaN</td>\n",
       "      <td>5745.0</td>\n",
       "      <td>AURLAND</td>\n",
       "      <td>Z1601281551398970239WJGDG_TilsynAvtale</td>\n",
       "      <td>28012016</td>\n",
       "      <td>3</td>\n",
       "      <td>0</td>\n",
       "    </tr>\n",
       "    <tr>\n",
       "      <th>...</th>\n",
       "      <td>...</td>\n",
       "      <td>...</td>\n",
       "      <td>...</td>\n",
       "      <td>...</td>\n",
       "      <td>...</td>\n",
       "      <td>...</td>\n",
       "      <td>...</td>\n",
       "      <td>...</td>\n",
       "      <td>...</td>\n",
       "      <td>...</td>\n",
       "      <td>...</td>\n",
       "    </tr>\n",
       "    <tr>\n",
       "      <th>38502</th>\n",
       "      <td>Z2001160832140813158YCIVW_Tilsynsobjekt</td>\n",
       "      <td>923609474.0</td>\n",
       "      <td>Kirkens Bymisjon Notodden</td>\n",
       "      <td>Torvet 4</td>\n",
       "      <td>NaN</td>\n",
       "      <td>3674.0</td>\n",
       "      <td>NOTODDEN</td>\n",
       "      <td>Z2109211526483570239DXQKX_TilsynAvtale</td>\n",
       "      <td>21092021</td>\n",
       "      <td>1</td>\n",
       "      <td>0</td>\n",
       "    </tr>\n",
       "    <tr>\n",
       "      <th>38503</th>\n",
       "      <td>Z1609071259126400378YKTNK_Tilsynsobjekt</td>\n",
       "      <td>917507953.0</td>\n",
       "      <td>Kaffelade</td>\n",
       "      <td>Torgalmenningen 8 - Galleriet</td>\n",
       "      <td>NaN</td>\n",
       "      <td>5014.0</td>\n",
       "      <td>BERGEN</td>\n",
       "      <td>Z1706011234148320239ISPHV_TilsynAvtale</td>\n",
       "      <td>31052017</td>\n",
       "      <td>2</td>\n",
       "      <td>0</td>\n",
       "    </tr>\n",
       "    <tr>\n",
       "      <th>38504</th>\n",
       "      <td>Z1006120516127581189INJLE_Tilsynsobjekt</td>\n",
       "      <td>990953791.0</td>\n",
       "      <td>Pikekyss</td>\n",
       "      <td>RASMUS RØNNEBERGSGATE</td>\n",
       "      <td>NaN</td>\n",
       "      <td>6003.0</td>\n",
       "      <td>ÅLESUND</td>\n",
       "      <td>Z1604191143049200239RMRUW_TilsynAvtale</td>\n",
       "      <td>19042016</td>\n",
       "      <td>0</td>\n",
       "      <td>0</td>\n",
       "    </tr>\n",
       "    <tr>\n",
       "      <th>38505</th>\n",
       "      <td>Z1006061504487071190UWBRX_Tilsynsobjekt</td>\n",
       "      <td>991929622.0</td>\n",
       "      <td>Fyr på Lade</td>\n",
       "      <td>HAAKON VII'S GATE 12</td>\n",
       "      <td>NaN</td>\n",
       "      <td>7041.0</td>\n",
       "      <td>TRONDHEIM</td>\n",
       "      <td>Z1706291050201280239VDDHQ_TilsynAvtale</td>\n",
       "      <td>29062017</td>\n",
       "      <td>1</td>\n",
       "      <td>0</td>\n",
       "    </tr>\n",
       "    <tr>\n",
       "      <th>38506</th>\n",
       "      <td>Z1006051349198741126ZZYGJ_Tilsynsobjekt</td>\n",
       "      <td>973862316.0</td>\n",
       "      <td>Stavanger Kunstmuseum</td>\n",
       "      <td>Mosvangen</td>\n",
       "      <td>NaN</td>\n",
       "      <td>4021.0</td>\n",
       "      <td>STAVANGER</td>\n",
       "      <td>Z1903140903067720240SWLNM_TilsynAvtale</td>\n",
       "      <td>13032019</td>\n",
       "      <td>0</td>\n",
       "      <td>0</td>\n",
       "    </tr>\n",
       "  </tbody>\n",
       "</table>\n",
       "<p>38507 rows × 11 columns</p>\n",
       "</div>"
      ],
      "text/plain": [
       "                               tilsynsobjektid    orgnummer  \\\n",
       "0      Z1006052059576191189LLAJS_Tilsynsobjekt  876576422.0   \n",
       "1      Z1501071230082032024GTOXC_Tilsynsobjekt  914541034.0   \n",
       "2      Z1006120609250331126HFNXO_Tilsynsobjekt  987770740.0   \n",
       "3      Z1107281100559960160KWPRX_Tilsynsobjekt  998066662.0   \n",
       "4      Z1305061320139293177THOPJ_Tilsynsobjekt  911860805.0   \n",
       "...                                        ...          ...   \n",
       "38502  Z2001160832140813158YCIVW_Tilsynsobjekt  923609474.0   \n",
       "38503  Z1609071259126400378YKTNK_Tilsynsobjekt  917507953.0   \n",
       "38504  Z1006120516127581189INJLE_Tilsynsobjekt  990953791.0   \n",
       "38505  Z1006061504487071190UWBRX_Tilsynsobjekt  991929622.0   \n",
       "38506  Z1006051349198741126ZZYGJ_Tilsynsobjekt  973862316.0   \n",
       "\n",
       "                                           navn  \\\n",
       "0                     Malik's Kvarten Bistro AS   \n",
       "1      Bakeriet i Brumunddal avdeling CC- Hamar   \n",
       "2          Aktiven skiheis - Varmestova og Lavo   \n",
       "3                                    Golfkafeen   \n",
       "4                      Marianne Bakeri og Kafe    \n",
       "...                                         ...   \n",
       "38502                 Kirkens Bymisjon Notodden   \n",
       "38503                                 Kaffelade   \n",
       "38504                                  Pikekyss   \n",
       "38505                               Fyr på Lade   \n",
       "38506                     Stavanger Kunstmuseum   \n",
       "\n",
       "                           adrlinje1 adrlinje2  postnr     poststed  \\\n",
       "0               KRISTIAN IV`S GATE 1       NaN   164.0         OSLO   \n",
       "1                      VANGSVEGEN 62       NaN  2317.0        HAMAR   \n",
       "2                         Kvamskogen       NaN  5600.0  NORHEIMSUND   \n",
       "3                     Belsjøveien 50       NaN  1445.0       DRØBAK   \n",
       "4                            ODDEN 2       NaN  5745.0      AURLAND   \n",
       "...                              ...       ...     ...          ...   \n",
       "38502                       Torvet 4       NaN  3674.0     NOTODDEN   \n",
       "38503  Torgalmenningen 8 - Galleriet       NaN  5014.0       BERGEN   \n",
       "38504          RASMUS RØNNEBERGSGATE       NaN  6003.0      ÅLESUND   \n",
       "38505           HAAKON VII'S GATE 12       NaN  7041.0    TRONDHEIM   \n",
       "38506                      Mosvangen       NaN  4021.0    STAVANGER   \n",
       "\n",
       "                                     tilsynid      dato  total_karakter  \\\n",
       "0      Z1601151233010030239YFSGZ_TilsynAvtale  15012016               0   \n",
       "1      Z1601211510285150239IKXEO_TilsynAvtale  21012016               1   \n",
       "2      Z1603101430592020239SQLTI_TilsynAvtale  10032016               1   \n",
       "3      Z1605111530190600240CQCNS_TilsynAvtale  11052016               1   \n",
       "4      Z1601281551398970239WJGDG_TilsynAvtale  28012016               3   \n",
       "...                                       ...       ...             ...   \n",
       "38502  Z2109211526483570239DXQKX_TilsynAvtale  21092021               1   \n",
       "38503  Z1706011234148320239ISPHV_TilsynAvtale  31052017               2   \n",
       "38504  Z1604191143049200239RMRUW_TilsynAvtale  19042016               0   \n",
       "38505  Z1706291050201280239VDDHQ_TilsynAvtale  29062017               1   \n",
       "38506  Z1903140903067720240SWLNM_TilsynAvtale  13032019               0   \n",
       "\n",
       "       tilsynsbesoektype  \n",
       "0                      1  \n",
       "1                      0  \n",
       "2                      0  \n",
       "3                      0  \n",
       "4                      0  \n",
       "...                  ...  \n",
       "38502                  0  \n",
       "38503                  0  \n",
       "38504                  0  \n",
       "38505                  0  \n",
       "38506                  0  \n",
       "\n",
       "[38507 rows x 11 columns]"
      ]
     },
     "execution_count": 212,
     "metadata": {},
     "output_type": "execute_result"
    }
   ],
   "source": [
    "df"
   ]
  },
  {
   "cell_type": "code",
   "execution_count": 213,
   "id": "4fe52456",
   "metadata": {},
   "outputs": [],
   "source": [
    "df[\"dato\"] = df[\"dato\"].astype('str').str.zfill(8)\n",
    "df['dato'] = pd.to_datetime(df['dato'], format='%d%m%Y')"
   ]
  },
  {
   "cell_type": "code",
   "execution_count": 214,
   "id": "518f2dee",
   "metadata": {},
   "outputs": [],
   "source": [
    "siste = df['dato'].max()\n",
    "target = siste - timedelta(days=180)\n",
    "df_training = df.loc[df['dato'] <= target]\n",
    "df_validering = df.loc[df['dato'] > target]"
   ]
  },
  {
   "cell_type": "code",
   "execution_count": 246,
   "id": "d503bea5",
   "metadata": {},
   "outputs": [],
   "source": [
    "df_training.to_csv('dataset_mattilsynet.csv')\n",
    "df_validering.to_csv('fasit_mattilsynet.csv')\n",
    "df_validering.drop(\"total_karakter\", axis = \"columns\").to_csv(\"scoring_dataset.csv\")"
   ]
  },
  {
   "cell_type": "code",
   "execution_count": 216,
   "id": "38e69b8e",
   "metadata": {},
   "outputs": [
    {
     "data": {
      "text/plain": [
       "total_karakter\n",
       "0    18115\n",
       "1    11090\n",
       "2     5713\n",
       "3      507\n",
       "dtype: int64"
      ]
     },
     "execution_count": 216,
     "metadata": {},
     "output_type": "execute_result"
    }
   ],
   "source": [
    "df_training.value_counts(\"total_karakter\")"
   ]
  },
  {
   "cell_type": "code",
   "execution_count": 217,
   "id": "7bc9a12f",
   "metadata": {},
   "outputs": [],
   "source": [
    "df_training[\"navn\"] = df_training[\"navn\"].str.upper()"
   ]
  },
  {
   "cell_type": "markdown",
   "id": "53ee51d9",
   "metadata": {},
   "source": [
    "# Undersøk variabler"
   ]
  },
  {
   "cell_type": "markdown",
   "id": "9dc0f7bf",
   "metadata": {},
   "source": [
    "## Kebab?"
   ]
  },
  {
   "cell_type": "markdown",
   "id": "147a733a",
   "metadata": {},
   "source": [
    "Undersøker ny variabel \"er_kebab\", som er TRUE hvis navnet på organisasjonen inneholder ordet \"kebab\", og FALSE ellers:"
   ]
  },
  {
   "cell_type": "code",
   "execution_count": 218,
   "id": "7b3aefe9",
   "metadata": {},
   "outputs": [],
   "source": [
    "df_training = df_training.assign(er_kebab = df_training[\"navn\"].str.contains(\"KEBAB\"))"
   ]
  },
  {
   "cell_type": "code",
   "execution_count": 219,
   "id": "5accc68a",
   "metadata": {},
   "outputs": [
    {
     "data": {
      "text/plain": [
       "er_kebab\n",
       "False    34955\n",
       "True       470\n",
       "dtype: int64"
      ]
     },
     "execution_count": 219,
     "metadata": {},
     "output_type": "execute_result"
    }
   ],
   "source": [
    "df_training.value_counts(\"er_kebab\")"
   ]
  },
  {
   "cell_type": "code",
   "execution_count": 220,
   "id": "f630f2a3",
   "metadata": {},
   "outputs": [
    {
     "data": {
      "text/html": [
       "<div>\n",
       "<style scoped>\n",
       "    .dataframe tbody tr th:only-of-type {\n",
       "        vertical-align: middle;\n",
       "    }\n",
       "\n",
       "    .dataframe tbody tr th {\n",
       "        vertical-align: top;\n",
       "    }\n",
       "\n",
       "    .dataframe thead th {\n",
       "        text-align: right;\n",
       "    }\n",
       "</style>\n",
       "<table border=\"1\" class=\"dataframe\">\n",
       "  <thead>\n",
       "    <tr style=\"text-align: right;\">\n",
       "      <th></th>\n",
       "      <th>snitt_karakter</th>\n",
       "      <th>antall</th>\n",
       "    </tr>\n",
       "    <tr>\n",
       "      <th>er_kebab</th>\n",
       "      <th></th>\n",
       "      <th></th>\n",
       "    </tr>\n",
       "  </thead>\n",
       "  <tbody>\n",
       "    <tr>\n",
       "      <th>False</th>\n",
       "      <td>0.675669</td>\n",
       "      <td>34955</td>\n",
       "    </tr>\n",
       "    <tr>\n",
       "      <th>True</th>\n",
       "      <td>0.891489</td>\n",
       "      <td>470</td>\n",
       "    </tr>\n",
       "  </tbody>\n",
       "</table>\n",
       "</div>"
      ],
      "text/plain": [
       "          snitt_karakter  antall\n",
       "er_kebab                        \n",
       "False           0.675669   34955\n",
       "True            0.891489     470"
      ]
     },
     "execution_count": 220,
     "metadata": {},
     "output_type": "execute_result"
    }
   ],
   "source": [
    "(\n",
    "    df_training\n",
    "    .groupby(\"er_kebab\")\n",
    "    .agg(\n",
    "        snitt_karakter = (\"total_karakter\", \"mean\"),\n",
    "        antall = (\"total_karakter\", \"count\")\n",
    "    )\n",
    ")"
   ]
  },
  {
   "cell_type": "code",
   "execution_count": 221,
   "id": "562bce8d",
   "metadata": {},
   "outputs": [
    {
     "data": {
      "text/html": [
       "<div>\n",
       "<style scoped>\n",
       "    .dataframe tbody tr th:only-of-type {\n",
       "        vertical-align: middle;\n",
       "    }\n",
       "\n",
       "    .dataframe tbody tr th {\n",
       "        vertical-align: top;\n",
       "    }\n",
       "\n",
       "    .dataframe thead th {\n",
       "        text-align: right;\n",
       "    }\n",
       "</style>\n",
       "<table border=\"1\" class=\"dataframe\">\n",
       "  <thead>\n",
       "    <tr style=\"text-align: right;\">\n",
       "      <th></th>\n",
       "      <th>er_kebab</th>\n",
       "      <th>total_karakter</th>\n",
       "      <th>andel</th>\n",
       "    </tr>\n",
       "  </thead>\n",
       "  <tbody>\n",
       "    <tr>\n",
       "      <th>0</th>\n",
       "      <td>False</td>\n",
       "      <td>0</td>\n",
       "      <td>0.512001</td>\n",
       "    </tr>\n",
       "    <tr>\n",
       "      <th>1</th>\n",
       "      <td>False</td>\n",
       "      <td>1</td>\n",
       "      <td>0.314233</td>\n",
       "    </tr>\n",
       "    <tr>\n",
       "      <th>2</th>\n",
       "      <td>False</td>\n",
       "      <td>2</td>\n",
       "      <td>0.159863</td>\n",
       "    </tr>\n",
       "    <tr>\n",
       "      <th>3</th>\n",
       "      <td>False</td>\n",
       "      <td>3</td>\n",
       "      <td>0.013904</td>\n",
       "    </tr>\n",
       "    <tr>\n",
       "      <th>4</th>\n",
       "      <td>True</td>\n",
       "      <td>0</td>\n",
       "      <td>0.463830</td>\n",
       "    </tr>\n",
       "    <tr>\n",
       "      <th>5</th>\n",
       "      <td>True</td>\n",
       "      <td>2</td>\n",
       "      <td>0.265957</td>\n",
       "    </tr>\n",
       "    <tr>\n",
       "      <th>6</th>\n",
       "      <td>True</td>\n",
       "      <td>1</td>\n",
       "      <td>0.225532</td>\n",
       "    </tr>\n",
       "    <tr>\n",
       "      <th>7</th>\n",
       "      <td>True</td>\n",
       "      <td>3</td>\n",
       "      <td>0.044681</td>\n",
       "    </tr>\n",
       "  </tbody>\n",
       "</table>\n",
       "</div>"
      ],
      "text/plain": [
       "   er_kebab  total_karakter     andel\n",
       "0     False               0  0.512001\n",
       "1     False               1  0.314233\n",
       "2     False               2  0.159863\n",
       "3     False               3  0.013904\n",
       "4      True               0  0.463830\n",
       "5      True               2  0.265957\n",
       "6      True               1  0.225532\n",
       "7      True               3  0.044681"
      ]
     },
     "execution_count": 221,
     "metadata": {},
     "output_type": "execute_result"
    }
   ],
   "source": [
    "counts = (\n",
    "    df_training\n",
    "    .groupby(\"er_kebab\")[\"total_karakter\"]\n",
    "    .value_counts(normalize = True)\n",
    "    .rename(\"andel\")\n",
    "    .reset_index()\n",
    ")\n",
    "\n",
    "counts"
   ]
  },
  {
   "cell_type": "code",
   "execution_count": 222,
   "id": "3099b8a2",
   "metadata": {},
   "outputs": [
    {
     "data": {
      "text/plain": [
       "<AxesSubplot:xlabel='total_karakter', ylabel='andel'>"
      ]
     },
     "execution_count": 222,
     "metadata": {},
     "output_type": "execute_result"
    },
    {
     "data": {
      "image/png": "[encoded data removed]",
      "text/plain": [
       "<Figure size 432x288 with 1 Axes>"
      ]
     },
     "metadata": {
      "needs_background": "light"
     },
     "output_type": "display_data"
    }
   ],
   "source": [
    "sns.barplot(\n",
    "    data = counts, \n",
    "    x = \"total_karakter\",\n",
    "    y = \"andel\",\n",
    "    hue = \"er_kebab\"\n",
    ")"
   ]
  },
  {
   "cell_type": "code",
   "execution_count": 223,
   "id": "e5aba904",
   "metadata": {},
   "outputs": [
    {
     "data": {
      "text/plain": [
       "<AxesSubplot:xlabel='er_kebab', ylabel='total_karakter'>"
      ]
     },
     "execution_count": 223,
     "metadata": {},
     "output_type": "execute_result"
    },
    {
     "data": {
      "image/png": "[encoded data removed]",
      "text/plain": [
       "<Figure size 432x288 with 2 Axes>"
      ]
     },
     "metadata": {
      "needs_background": "light"
     },
     "output_type": "display_data"
    }
   ],
   "source": [
    "sns.heatmap(\n",
    "    data = counts.pivot(\"total_karakter\", \"er_kebab\", \"andel\"), \n",
    "    annot = True, \n",
    "    cmap = \"YlGnBu\", \n",
    "    vmin = 0, \n",
    "    vmax = 1\n",
    ")"
   ]
  },
  {
   "cell_type": "markdown",
   "id": "bec97a23",
   "metadata": {},
   "source": [
    "## Poststed"
   ]
  },
  {
   "cell_type": "code",
   "execution_count": 224,
   "id": "3364ec13",
   "metadata": {},
   "outputs": [],
   "source": [
    "def fct_lump(col, min_freq = 0.01, new_name = 'other'):\n",
    "    \"\"\"\n",
    "    This function creates a group for strings that appear less than a \n",
    "    given frequency, defined as a share of all groups (factors).\n",
    "\n",
    "    Inspired by forcats::fct_lump() in R. \n",
    "\n",
    "    Args:\n",
    "        col: Pandas series, column in DataFrame\n",
    "        min_freq: Minimum frequency to accept as decimal before setting new_name\n",
    "        new_name: String name for the new group\n",
    "\n",
    "    Returns:\n",
    "        pd.Series with lumped factors (if below threshold)\n",
    "    \"\"\"\n",
    "    series = pd.value_counts(col)\n",
    "    mask = (series/series.sum()).lt(min_freq)\n",
    "    return pd.Series(np.where(col.isin(series[mask].index), new_name, col))\n",
    "\n",
    "\n",
    "df_training = df_training.assign(poststed_lmp = fct_lump(df_training[\"poststed\"], min_freq = 0.02))"
   ]
  },
  {
   "cell_type": "code",
   "execution_count": 225,
   "id": "a234e371",
   "metadata": {},
   "outputs": [
    {
     "data": {
      "text/plain": [
       "<AxesSubplot:xlabel='total_karakter', ylabel='andel'>"
      ]
     },
     "execution_count": 225,
     "metadata": {},
     "output_type": "execute_result"
    },
    {
     "data": {
      "image/png": "[encoded data removed]",
      "text/plain": [
       "<Figure size 432x288 with 1 Axes>"
      ]
     },
     "metadata": {
      "needs_background": "light"
     },
     "output_type": "display_data"
    }
   ],
   "source": [
    "counts = (\n",
    "    df_training\n",
    "    .groupby(\"poststed_lmp\")[\"total_karakter\"]\n",
    "    .value_counts(normalize = True)\n",
    "    .rename(\"andel\")\n",
    "    .reset_index()\n",
    ")\n",
    "\n",
    "sns.barplot(\n",
    "    data = counts, \n",
    "    x = \"total_karakter\",\n",
    "    y = \"andel\",\n",
    "    hue = \"poststed_lmp\"\n",
    ")"
   ]
  },
  {
   "cell_type": "code",
   "execution_count": 226,
   "id": "0691eef9",
   "metadata": {},
   "outputs": [
    {
     "data": {
      "text/plain": [
       "<AxesSubplot:xlabel='poststed_lmp', ylabel='total_karakter'>"
      ]
     },
     "execution_count": 226,
     "metadata": {},
     "output_type": "execute_result"
    },
    {
     "data": {
      "image/png": "[encoded data removed]",
      "text/plain": [
       "<Figure size 432x288 with 2 Axes>"
      ]
     },
     "metadata": {
      "needs_background": "light"
     },
     "output_type": "display_data"
    }
   ],
   "source": [
    "sns.heatmap(\n",
    "    data = counts.pivot(\"total_karakter\", \"poststed_lmp\", \"andel\"), \n",
    "    annot = True, \n",
    "    cmap = \"YlGnBu\", \n",
    "    vmin = 0, \n",
    "    vmax = 1\n",
    ")"
   ]
  },
  {
   "cell_type": "markdown",
   "id": "bb389945",
   "metadata": {},
   "source": [
    "# Lag modell"
   ]
  },
  {
   "cell_type": "code",
   "execution_count": 227,
   "id": "2eb5a64f",
   "metadata": {},
   "outputs": [
    {
     "name": "stdout",
     "output_type": "stream",
     "text": [
      "Training Set: 24,797 rows\n",
      "Test Set: 10,628 rows\n"
     ]
    }
   ],
   "source": [
    "#Definerer x og y variabler\n",
    "x_vars = ['er_kebab', 'tilsynsbesoektype', 'poststed']\n",
    "X = df_training[x_vars]\n",
    "y = df_training['total_karakter']\n",
    "\n",
    "# Definer training og testing\n",
    "X_train, X_test, y_train, y_test = train_test_split(X, y, test_size = 0.30, random_state = 0)\n",
    "\n",
    "print(f'Training Set: {X_train.shape[0]:,d} rows\\nTest Set: {X_test.shape[0]:,d} rows')"
   ]
  },
  {
   "cell_type": "code",
   "execution_count": 228,
   "id": "5a5ca052",
   "metadata": {},
   "outputs": [],
   "source": [
    "# Steps for numeriske variabler\n",
    "numeric_transformer = Pipeline(\n",
    "    steps = [\n",
    "        ('imputer', SimpleImputer(strategy = 'mean'))\n",
    "    ]\n",
    ")\n",
    "\n",
    "# Steps for kategoriske variabler\n",
    "categorical_transformer = Pipeline(\n",
    "    steps=[\n",
    "        ('imputer', SimpleImputer(strategy = 'most_frequent')),\n",
    "        ('onehot', OneHotEncoder(handle_unknown = 'ignore'))\n",
    "    ]\n",
    ")\n",
    "\n",
    "# Finn numeriske og kategoriske kolonner\n",
    "numeric_features = X_train.select_dtypes(include = ['int64', 'float64']).columns\n",
    "categorical_features = X_train.select_dtypes(include = ['object']).columns\n",
    "\n",
    "preprocessor = ColumnTransformer(\n",
    "    transformers = [\n",
    "        ('numeric', numeric_transformer, numeric_features),\n",
    "        ('categorical', categorical_transformer, categorical_features)\n",
    "    ]\n",
    ")\n",
    "\n",
    "# Kombiner Pipeline med modell (her: lineær regresjon)\n",
    "lm = Pipeline(\n",
    "    steps = [\n",
    "        ('preprocessor', preprocessor),\n",
    "        ('modell', LinearRegression())\n",
    "    ]\n",
    ")"
   ]
  },
  {
   "cell_type": "code",
   "execution_count": 229,
   "id": "ed6f01b4",
   "metadata": {},
   "outputs": [],
   "source": [
    "# Tren Pipelinen\n",
    "lm.fit(X_train, y_train)\n",
    "\n",
    "# Bruk pipeline på nye data\n",
    "pred = lm.predict(X_test)"
   ]
  },
  {
   "cell_type": "markdown",
   "id": "866aa52e",
   "metadata": {},
   "source": [
    "Siden vi har behandlet input som numerisk må vi konvertere for å få \"harde\" prediksjoner. Vi velger her å bruke en enkel \"round\": \n"
   ]
  },
  {
   "cell_type": "code",
   "execution_count": 230,
   "id": "5b9b95d4",
   "metadata": {},
   "outputs": [],
   "source": [
    "# Begrenser prediksjonen til [0, 3] \n",
    "pred = np.clip(pred, 0, 3)\n",
    "\n",
    "softpred = pred\n",
    "hardpred = pred.round()"
   ]
  },
  {
   "cell_type": "markdown",
   "id": "9850db8f",
   "metadata": {},
   "source": [
    "# Validering av modell\n",
    "Som valideringsmetric scores dere på macro-averaged MAE, eller MMAE, som er et måltall som egner seg for ordinale utfall når utfallet er ubalansert, les mer [her](https://stats.stackexchange.com/questions/338904/measures-of-ordinal-classification-error-for-ordinal-regression).\n",
    "\n",
    "Dette er gjennomsnittlig avvik per risikonivå. Det vil si at dersom du predikerer kun 0 eller 1 på alle (de vanligste verdiene), så vil du få en ganske dårlig score - fordi du vil straffes hardt for alle du bommer på som skulle hatt 2 eller 3, selv om det er veldig få av disse. \n",
    "\n",
    "Dere velger selv om dere vil sende inn \"harde prediksjoner\" (eks: 0, 1, 2, 3) eller \"myke\" prediksjoner (eks: 0.13, 0.89, 2.42, 2.99). \n",
    "\n",
    "Merk at jo lavere MMAE, jo bedre er modellen. "
   ]
  },
  {
   "cell_type": "code",
   "execution_count": 231,
   "id": "7ea364df",
   "metadata": {},
   "outputs": [
    {
     "name": "stdout",
     "output_type": "stream",
     "text": [
      "MMAE (hard) = 1.0132907154297661,\n",
      "MMAE (soft) = 1.0494173486224183\n"
     ]
    }
   ],
   "source": [
    "def mmae(y_true, y_pred):\n",
    "    \"\"\"\n",
    "    Funksjonen beregner Macro Averaged Mean Absolute Error.  \n",
    "    Dvs at den beregner MAE per class i y_true, og tar snittet av disse. \n",
    "\n",
    "    Params:\n",
    "        y_true: Vektor med sanne verdier\n",
    "        y_pred: Vektor med predikerte verdier\n",
    "    \"\"\"\n",
    "    df = pd.DataFrame({\"y_true\": y_test, \"y_pred\": y_pred})\n",
    "    maes = df.groupby(\"y_true\").apply(lambda d: mean_absolute_error(d[\"y_true\"], d[\"y_pred\"]))\n",
    "    return maes.mean()\n",
    "\n",
    "mmae_lm_hard = mmae(y_test, y_pred = hardpred)\n",
    "mmae_lm_soft = mmae(y_test, y_pred = softpred)\n",
    "\n",
    "print(f\"MMAE (hard) = {mmae_lm_hard},\\nMMAE (soft) = {mmae_lm_soft}\")"
   ]
  },
  {
   "cell_type": "code",
   "execution_count": 232,
   "id": "e724bf46",
   "metadata": {},
   "outputs": [
    {
     "data": {
      "text/plain": [
       "<seaborn.axisgrid.FacetGrid at 0x7feeb18b6d30>"
      ]
     },
     "execution_count": 232,
     "metadata": {},
     "output_type": "execute_result"
    },
    {
     "data": {
      "image/png": "[encoded data removed]",
      "text/plain": [
       "<Figure size 360x360 with 1 Axes>"
      ]
     },
     "metadata": {
      "needs_background": "light"
     },
     "output_type": "display_data"
    }
   ],
   "source": [
    "sns.displot(data = softpred)"
   ]
  },
  {
   "cell_type": "code",
   "execution_count": 233,
   "id": "fedd5106",
   "metadata": {},
   "outputs": [
    {
     "data": {
      "text/plain": [
       "<AxesSubplot:ylabel='count'>"
      ]
     },
     "execution_count": 233,
     "metadata": {},
     "output_type": "execute_result"
    },
    {
     "data": {
      "image/png": "[encoded data removed]",
      "text/plain": [
       "<Figure size 432x288 with 1 Axes>"
      ]
     },
     "metadata": {
      "needs_background": "light"
     },
     "output_type": "display_data"
    }
   ],
   "source": [
    "sns.countplot(x = hardpred)"
   ]
  },
  {
   "cell_type": "code",
   "execution_count": 234,
   "id": "fb819b55",
   "metadata": {
    "scrolled": true
   },
   "outputs": [
    {
     "data": {
      "image/png": "[encoded data removed]",
      "text/plain": [
       "<Figure size 432x432 with 3 Axes>"
      ]
     },
     "metadata": {
      "needs_background": "light"
     },
     "output_type": "display_data"
    }
   ],
   "source": [
    "import matplotlib.pyplot as plt\n",
    "\n",
    "p = sns.jointplot(\n",
    "    y = softpred, \n",
    "    x = y_test, \n",
    "    kind = \"reg\", \n",
    "    joint_kws = {\n",
    "        \"scatter_kws\":{\"alpha\": 0.25}, \n",
    "        \"line_kws\": {\"color\":\"red\"},\n",
    "        \"order\":3\n",
    "    }\n",
    ")\n",
    "\n",
    "p.ax_joint.set_xlabel(\"Actual\")\n",
    "p.ax_joint.set_ylabel(\"Predicted\")\n",
    "plt.show()"
   ]
  },
  {
   "cell_type": "markdown",
   "id": "1951e6db",
   "metadata": {},
   "source": [
    "# Appendix\n",
    "## Tuning\n",
    "Ønsker du å tune modellen, kan følgende kodesnutt hjelpe. Vi tuner her Lasso-modellen sitt alpha-parameter\n",
    "\n",
    "Merk at vi anbefaler ikke å bruke altfor mye tid på tuning da det ofte er lite å hente og tar mye tid (spesielt med dårlig PC), men dersom man er fornøyd med modellen ellers kan tuning være det \"lille ekstra\" som skiller førsteplass og andreplass!\n"
   ]
  },
  {
   "cell_type": "code",
   "execution_count": 235,
   "id": "dc83f235",
   "metadata": {},
   "outputs": [],
   "source": [
    "from sklearn.model_selection import KFold, GridSearchCV\n",
    "from sklearn.metrics import accuracy_score, make_scorer\n",
    "from sklearn import linear_model"
   ]
  },
  {
   "cell_type": "markdown",
   "id": "24cbc188",
   "metadata": {},
   "source": [
    "Tuning kan også benyttes med pipeline. Da må du legge til navnet på modellen i pipen som prefix til hvert parameternavn, etterfulgt av to understreker. For eksempel: i pipen underga vi modellen navnet modell, da må parameternavnene i grid={...} bli modell__alpha"
   ]
  },
  {
   "cell_type": "code",
   "execution_count": 241,
   "id": "4b06a7ba",
   "metadata": {},
   "outputs": [],
   "source": [
    "# Kombiner Pipeline med modell (her: Lasso. husk å inkludere modellnavnet i Grid under)\n",
    "ls = Pipeline(\n",
    "    steps = [\n",
    "        ('preprocessor', preprocessor),\n",
    "        ('modell', linear_model.Lasso())\n",
    "    ]\n",
    ")"
   ]
  },
  {
   "cell_type": "code",
   "execution_count": 242,
   "id": "c5752584",
   "metadata": {},
   "outputs": [],
   "source": [
    "grid = {\n",
    "    'modell__alpha': [0.1, 0.2]\n",
    "}\n",
    "\n",
    "kfold = KFold(n_splits = 5)"
   ]
  },
  {
   "cell_type": "code",
   "execution_count": 243,
   "id": "7f7eeb12",
   "metadata": {},
   "outputs": [
    {
     "name": "stdout",
     "output_type": "stream",
     "text": [
      "Fitting 5 folds for each of 2 candidates, totalling 10 fits\n"
     ]
    },
    {
     "data": {
      "text/plain": [
       "GridSearchCV(cv=KFold(n_splits=5, random_state=None, shuffle=False),\n",
       "             estimator=Pipeline(steps=[('preprocessor',\n",
       "                                        ColumnTransformer(transformers=[('numeric',\n",
       "                                                                         Pipeline(steps=[('imputer',\n",
       "                                                                                          SimpleImputer())]),\n",
       "                                                                         Index(['tilsynsbesoektype'], dtype='object')),\n",
       "                                                                        ('categorical',\n",
       "                                                                         Pipeline(steps=[('imputer',\n",
       "                                                                                          SimpleImputer(strategy='most_frequent')),\n",
       "                                                                                         ('onehot',\n",
       "                                                                                          OneHotEncoder(handle_unknown='ignore'))]),\n",
       "                                                                         Index(['poststed'], dtype='object'))])),\n",
       "                                       ('modell', Lasso())]),\n",
       "             n_jobs=-1, param_grid={'modell__alpha': [0.1, 0.2]},\n",
       "             scoring='neg_mean_absolute_error', verbose=1)"
      ]
     },
     "execution_count": 243,
     "metadata": {},
     "output_type": "execute_result"
    }
   ],
   "source": [
    "grid = GridSearchCV(\n",
    "  ls,\n",
    "  param_grid = grid,\n",
    "  cv = kfold,\n",
    "  scoring = 'neg_mean_absolute_error', # OBS: Optimalt sett bruk MMAE her\n",
    "  verbose = 1,\n",
    "  n_jobs = -1\n",
    ")\n",
    "\n",
    "grid.fit(X_train, y_train)"
   ]
  },
  {
   "cell_type": "code",
   "execution_count": 244,
   "id": "0d5d6e0c",
   "metadata": {},
   "outputs": [
    {
     "name": "stdout",
     "output_type": "stream",
     "text": [
      "{'modell__alpha': 0.1}\n"
     ]
    }
   ],
   "source": [
    "print(grid.best_params_)"
   ]
  },
  {
   "cell_type": "markdown",
   "id": "91d61c5e",
   "metadata": {},
   "source": [
    "## Finne vanligste ord eller ngrams i orgnavn\n",
    "Under finner vi de vanligste ordene som opptrer i datasettet. Kanskje noen av de kan skille seg ut?"
   ]
  },
  {
   "cell_type": "code",
   "execution_count": 189,
   "id": "83a8e1b1",
   "metadata": {},
   "outputs": [
    {
     "data": {
      "text/plain": [
       "AS            3230\n",
       "RESTAURANT    2537\n",
       "&             2436\n",
       "OG            2345\n",
       "CAFE          1649\n",
       "KAFE          1566\n",
       "-             1561\n",
       "PIZZA         1396\n",
       "HOTEL         1094\n",
       "BAR            947\n",
       "HOTELL         881\n",
       "SUSHI          872\n",
       "BAKERI         713\n",
       "HOUSE          684\n",
       "AVD.           609\n",
       "dtype: int64"
      ]
     },
     "execution_count": 189,
     "metadata": {},
     "output_type": "execute_result"
    }
   ],
   "source": [
    "pd.Series(' '.join(df_training['navn']).split()).value_counts()[:15]"
   ]
  }
 ],
 "metadata": {
  "kernelspec": {
   "display_name": "Python 3",
   "language": "python",
   "name": "python3"
  },
  "language_info": {
   "codemirror_mode": {
    "name": "ipython",
    "version": 3
   },
   "file_extension": ".py",
   "mimetype": "text/x-python",
   "name": "python",
   "nbconvert_exporter": "python",
   "pygments_lexer": "ipython3",
   "version": "3.8.12"
  }
 },
 "nbformat": 4,
 "nbformat_minor": 5
}
